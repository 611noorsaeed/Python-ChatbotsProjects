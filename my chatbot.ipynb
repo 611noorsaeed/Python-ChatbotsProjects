{
 "cells": [
  {
   "cell_type": "markdown",
   "id": "629a2a65",
   "metadata": {},
   "source": [
    "# My chatGPT\n",
    "# Nlp Project\n",
    "# Simplt Chatbot"
   ]
  },
  {
   "cell_type": "code",
   "execution_count": 1,
   "id": "7039c5c9",
   "metadata": {},
   "outputs": [],
   "source": [
    "import numpy as np\n",
    "import nltk\n",
    "import random\n",
    "\n",
    "\n",
    "f = open(r'chatbot.txt')\n",
    "text = f.read()"
   ]
  },
  {
   "cell_type": "code",
   "execution_count": 2,
   "id": "bbf84f19",
   "metadata": {},
   "outputs": [
    {
     "data": {
      "text/plain": [
       "'ata science is an interdisciplinary academic field [1] that uses statistics, scientific computing, '"
      ]
     },
     "execution_count": 2,
     "metadata": {},
     "output_type": "execute_result"
    }
   ],
   "source": [
    "text[1:100]"
   ]
  },
  {
   "cell_type": "code",
   "execution_count": 3,
   "id": "9b6959a6",
   "metadata": {},
   "outputs": [],
   "source": [
    "text = text.lower()\n",
    "word_token = nltk.word_tokenize(text)\n",
    "sent_token = nltk.sent_tokenize(text)"
   ]
  },
  {
   "cell_type": "code",
   "execution_count": 4,
   "id": "4e7ee788",
   "metadata": {},
   "outputs": [
    {
     "data": {
      "text/plain": [
       "['science',\n",
       " 'is',\n",
       " 'an',\n",
       " 'interdisciplinary',\n",
       " 'academic',\n",
       " 'field',\n",
       " '[',\n",
       " '1',\n",
       " ']']"
      ]
     },
     "execution_count": 4,
     "metadata": {},
     "output_type": "execute_result"
    }
   ],
   "source": [
    "word_token[1:10]"
   ]
  },
  {
   "cell_type": "code",
   "execution_count": 5,
   "id": "183f6ba9",
   "metadata": {},
   "outputs": [
    {
     "data": {
      "text/plain": [
       "['[2]\\n\\ndata science also integrates domain knowledge from the underlying application domain (e.g., natural sciences, information technology, and medicine).',\n",
       " '[3] data science is multifaceted and can be described as a science, a research paradigm, a research method, a discipline, a workflow, and a profession.',\n",
       " '[4]\\n\\ndata science is a \"concept to unify statistics, data analysis, informatics, and their related methods\" in order to \"understand and analyse actual phenomena\" with data.',\n",
       " '[5] it uses techniques and theories drawn from many fields within the context of mathematics, statistics, computer science, information science, and domain knowledge.',\n",
       " '[6] however, data science is different from computer science and information science.',\n",
       " 'turing award winner jim gray imagined data science as a \"fourth paradigm\" of science (empirical, theoretical, computational, and now data-driven) and asserted that \"everything about science is changing because of the impact of information technology\" and the data deluge.',\n",
       " '[7][8]\\n\\na data scientist is the professional who creates programming code and combines it with statistical knowledge to create insights from data.',\n",
       " '[9]\\n\\nfoundations\\ndata science is an interdisciplinary field[10] focused on extracting knowledge from typically large data sets and applying the knowledge and insights from that data to solve problems in a wide range of application domains.',\n",
       " '[11] the field encompasses preparing data for analysis, formulating data science problems, analyzing data, developing data-driven solutions, and presenting findings to inform high-level decisions in a broad range of application domains.',\n",
       " 'as such, it incorporates skills from computer science, statistics, information science, mathematics, data visualization, information visualization, data sonification, data integration, graphic design, complex systems, communication and business.',\n",
       " '[12][13] statistician nathan yau, drawing on ben fry, also links data science to humanâ€“computer interaction: users should be able to intuitively control and explore data.',\n",
       " '[14][15] in 2015, the american statistical association identified database management, statistics and machine learning, and distributed and parallel systems as the three emerging foundational professional communities.',\n",
       " '[16]\\n\\nrelationship to statistics\\nmany statisticians, including nate silver, have argued that data science is not a new field, but rather another name for statistics.',\n",
       " '[17] others argue that data science is distinct from statistics because it focuses on problems and techniques unique to digital data.',\n",
       " '[18] vasant dhar writes that statistics emphasizes quantitative data and description.',\n",
       " 'in contrast, data science deals with quantitative and qualitative data (e.g.',\n",
       " 'from images, text, sensors, transactions or customer information, etc) and emphasizes prediction and action.',\n",
       " '[19] andrew gelman of columbia university has described statistics as a nonessential part of data science.',\n",
       " '[20]\\n\\nstanford professor david donoho writes that data science is not distinguished from statistics by the size of datasets or use of computing and that many graduate programs misleadingly advertise their analytics and statistics training as the essence of a data-science program.',\n",
       " 'he describes data science as an applied field growing out of traditional statistics.',\n",
       " '[21]\\n\\netymology\\nearly usage\\nin 1962, john tukey described a field he called \"data analysis\", which resembles modern data science.',\n",
       " '[21] in 1985, in a lecture given to the chinese academy of sciences in beijing, c. f. jeff wu used the term \"data science\" for the first time as an alternative name for statistics.',\n",
       " '[22] later, attendees at a 1992 statistics symposium at the university of montpellier ii acknowledged the emergence of a new discipline focused on data of various origins and forms, combining established concepts and principles of statistics and data analysis with computing.',\n",
       " '[23][24]\\n\\nthe term \"data science\" has been traced back to 1974, when peter naur proposed it as an alternative name for computer science.',\n",
       " '[6] in 1996, the international federation of classification societies became the first conference to specifically feature data science as a topic.',\n",
       " '[6] however, the definition was still in flux.',\n",
       " 'after the 1985 lecture at the chinese academy of sciences in beijing, in 1997 c. f. jeff wu again suggested that statistics should be renamed data science.',\n",
       " 'he reasoned that a new name would help statistics shed inaccurate stereotypes, such as being synonymous with accounting or limited to describing data.',\n",
       " '[25] in 1998, hayashi chikio argued for data science as a new, interdisciplinary concept, with three aspects: data design, collection, and analysis.',\n",
       " '[24]\\n\\nduring the 1990s, popular terms for the process of finding patterns in datasets (which were increasingly large) included \"knowledge discovery\" and \"data mining\".',\n",
       " '[6][26]\\n\\nmodern usage\\nin 2012, technologists thomas h. davenport and dj patil declared \"data scientist: the sexiest job of the 21st century\",[27] a catch-phrase that was picked up even by major-city newspapers like the new york times[28] and the boston globe.',\n",
       " '[29] a decade later, they reaffirmed it, stating \"the job is more in demand than ever with employers\".',\n",
       " '[30]\\n\\nthe modern conception of data science as an independent discipline is sometimes attributed to william s.',\n",
       " 'cleveland.',\n",
       " '[31] in a 2001 paper, he advocated an expansion of statistics beyond theory into technical areas; because this would significantly change the field, it warranted a new name.',\n",
       " '[26] \"data science\" became more widely used in the next few years: in 2002, the committee on data for science and technology launched data science journal.',\n",
       " 'in 2003, columbia university launched the journal of data science.',\n",
       " \"[26] in 2014, the american statistical association's section on statistical learning and data mining changed its name to the section on statistical learning and data science, reflecting the ascendant popularity of data science.\",\n",
       " '[32]\\n\\nthe professional title of \"data scientist\" has been attributed to dj patil and jeff hammerbacher in 2008.',\n",
       " '[33] though it was used by the national science board in their 2005 report \"long-lived digital data collections: enabling research and education in the 21st century\", it referred broadly to any key role in managing a digital data collection.',\n",
       " '[34]\\n\\nthere is still no consensus on the definition of data science, and it is considered by some to be a buzzword.',\n",
       " '[35] big data is a related marketing term.',\n",
       " '[36] data scientists are responsible for breaking down big data into usable information and creating software and algorithms that help companies and organizations determine optimal operations.',\n",
       " '[37]\\n\\nsee also\\nopen data science conference\\nscientific data\\nwomen in data\\nreferences\\n donoho, david (2017).',\n",
       " '\"50 years of data science\".',\n",
       " 'journal of computational and graphical statistics.',\n",
       " '26 (4): 745â€“766.',\n",
       " 'doi:10.1080/10618600.2017.1384734.',\n",
       " 's2cid 114558008.\\n dhar, v. (2013).',\n",
       " '\"data science and prediction\".',\n",
       " 'communications of the acm.',\n",
       " '56 (12): 64â€“73.',\n",
       " 'doi:10.1145/2500499.',\n",
       " 's2cid 6107147. archived from the original on 9 november 2014. retrieved 2 september 2015.\\n danyluk, a.; leidig, p. (2021).',\n",
       " 'computing competencies for undergraduate data science curricula (pdf).',\n",
       " 'acm data science task force final report (report).',\n",
       " 'mike, koby and hazzan, orit.',\n",
       " '\"why is it hard to define data science?\".',\n",
       " 'cacm.acm.org.',\n",
       " 'retrieved 3 january 2023.\\n hayashi, chikio (1 january 1998).',\n",
       " '\"what is data science?',\n",
       " 'fundamental concepts and a heuristic example\".',\n",
       " 'in hayashi, chikio; yajima, keiji; bock, hans-hermann; ohsumi, noboru; tanaka, yutaka; baba, yasumasa (eds.).',\n",
       " 'data science, classification, and related methods.',\n",
       " 'studies in classification, data analysis, and knowledge organization.',\n",
       " 'springer japan.',\n",
       " 'pp.',\n",
       " '40â€“51.',\n",
       " 'doi:10.1007/978-4-431-65950-1_3.',\n",
       " 'isbn 9784431702085.\\n cao, longbing (29 june 2017).',\n",
       " '\"data science: a comprehensive overview\".',\n",
       " 'acm computing surveys.',\n",
       " '50 (3): 43:1â€“43:42. doi:10.1145/3076253.',\n",
       " 'issn 0360-0300. s2cid 207595944.\\n tony hey; stewart tansley; kristin michele tolle (2009).',\n",
       " 'the fourth paradigm: data-intensive scientific discovery.',\n",
       " 'microsoft research.',\n",
       " 'isbn 978-0-9825442-0-4. archived from the original on 20 march 2017.\\n bell, g.; hey, t.; szalay, a.',\n",
       " '(2009).',\n",
       " '\"computer science: beyond the data deluge\".',\n",
       " 'science.',\n",
       " '323 (5919): 1297â€“1298.',\n",
       " 'doi:10.1126/science.1170411.',\n",
       " 'issn 0036-8075. pmid 19265007. s2cid 9743327.\\n davenport, thomas h.; patil, d. j.',\n",
       " '(october 2012).',\n",
       " '\"data scientist: the sexiest job of the 21st century\".',\n",
       " 'harvard business review.',\n",
       " '90 (10): 70â€“76, 128. pmid 23074866. retrieved 18 january 2016.\\n emmert-streib, frank; dehmer, matthias (2018).',\n",
       " '\"defining data science by a data-driven quantification of the community\".',\n",
       " 'machine learning and knowledge extraction.',\n",
       " '1: 235â€“251.',\n",
       " 'doi:10.3390/make1010015.',\n",
       " '\"about data science\".',\n",
       " 'data science association.',\n",
       " 'archived from the original on 10 august 2020. retrieved 3 april 2020.',\n",
       " '\"1. introduction: what is data science?\".',\n",
       " 'doing data science [book].',\n",
       " 'oâ€™reilly.',\n",
       " 'retrieved 3 april 2020.',\n",
       " '\"the three sexy skills of data geeks\".',\n",
       " 'm.e.driscoll: data utopian.',\n",
       " '27 may 2009. retrieved 3 april 2020.\\n yau, nathan (4 june 2009).',\n",
       " '\"rise of the data scientist\".',\n",
       " 'flowingdata.',\n",
       " 'retrieved 3 april 2020.',\n",
       " '\"basic example\".',\n",
       " 'benfry.com.',\n",
       " 'retrieved 3 april 2020.',\n",
       " '\"asa statement on the role of statistics in data science\".',\n",
       " 'amstatnews.',\n",
       " 'american statistical association.',\n",
       " '1 october 2015. archived from the original on 20 june 2019. retrieved 29 may 2019.',\n",
       " '\"nate silver: what i need from statisticians\".',\n",
       " 'statistics views.',\n",
       " 'retrieved 3 april 2020.',\n",
       " '\"what\\'s the difference between data science and statistics?\".',\n",
       " 'priceonomics.',\n",
       " '13 october 2015. retrieved 3 april 2020.']"
      ]
     },
     "execution_count": 5,
     "metadata": {},
     "output_type": "execute_result"
    }
   ],
   "source": [
    "sent_token[1:1000]"
   ]
  },
  {
   "cell_type": "code",
   "execution_count": 6,
   "id": "9f68d2fa",
   "metadata": {},
   "outputs": [
    {
     "data": {
      "text/plain": [
       "['data', 'science']"
      ]
     },
     "execution_count": 6,
     "metadata": {},
     "output_type": "execute_result"
    }
   ],
   "source": [
    "word_token[:2]"
   ]
  },
  {
   "cell_type": "code",
   "execution_count": 7,
   "id": "d40c6dbb",
   "metadata": {},
   "outputs": [
    {
     "data": {
      "text/plain": [
       "['data science is an interdisciplinary academic field [1] that uses statistics, scientific computing, scientific methods, processes, algorithms and systems to extract or extrapolate knowledge and insights from noisy, structured, and unstructured data.',\n",
       " '[2]\\n\\ndata science also integrates domain knowledge from the underlying application domain (e.g., natural sciences, information technology, and medicine).',\n",
       " '[3] data science is multifaceted and can be described as a science, a research paradigm, a research method, a discipline, a workflow, and a profession.']"
      ]
     },
     "execution_count": 7,
     "metadata": {},
     "output_type": "execute_result"
    }
   ],
   "source": [
    "sent_token[:3]"
   ]
  },
  {
   "cell_type": "markdown",
   "id": "8ef904f6",
   "metadata": {},
   "source": [
    "# Text Preprocessing"
   ]
  },
  {
   "cell_type": "code",
   "execution_count": 8,
   "id": "07bd9e45",
   "metadata": {},
   "outputs": [],
   "source": [
    "import string \n",
    "\n",
    "lemmar = nltk.stem.WordNetLemmatizer()\n",
    "\n",
    "def toklemma(tokens):\n",
    "    return [lemmar.lemmatize(tk) for tk in tokens]\n",
    "\n",
    "remove_puc_dict = dict((ord(puc),None) for puc in string.punctuation)\n",
    "\n",
    "def lemNormalize(text):\n",
    "    return toklemma(nltk.word_tokenize(text.lower().translate(remove_puc_dict)))"
   ]
  },
  {
   "cell_type": "markdown",
   "id": "19634cad",
   "metadata": {},
   "source": [
    "# Greet Function"
   ]
  },
  {
   "cell_type": "code",
   "execution_count": 9,
   "id": "48870d93",
   "metadata": {},
   "outputs": [],
   "source": [
    "greet_input = ('hey','helo','greetings','sup','whats up')\n",
    "greet_response = ['hey','helo','hi there','whats going one','I am glad! you are talking to me']"
   ]
  },
  {
   "cell_type": "code",
   "execution_count": 10,
   "id": "4686e3d8",
   "metadata": {},
   "outputs": [],
   "source": [
    "def greet(sentence):\n",
    "    for word in sentence.split():\n",
    "        if word.lower() in greet_input:\n",
    "            return random.choice(greet_response)"
   ]
  },
  {
   "cell_type": "code",
   "execution_count": 11,
   "id": "50b31652",
   "metadata": {},
   "outputs": [],
   "source": [
    "from sklearn.feature_extraction.text import TfidfVectorizer # helo my name is helo\n",
    "from sklearn.metrics.pairwise import cosine_similarity"
   ]
  },
  {
   "cell_type": "markdown",
   "id": "76836fdd",
   "metadata": {},
   "source": [
    "# Cecking similarity between user input and existed text"
   ]
  },
  {
   "cell_type": "code",
   "execution_count": 12,
   "id": "51b1b355",
   "metadata": {},
   "outputs": [],
   "source": [
    "def response(user_input):\n",
    "    robo1_res = \"\"\n",
    "    tfidfvec = TfidfVectorizer(tokenizer=lemNormalize, stop_words='english')\n",
    "    tfidf = tfidfvec.fit_transform(sent_token)\n",
    "    vals = cosine_similarity(tfidf[-1],tfidf)\n",
    "    idx = vals.argsort()[0][-2]\n",
    "    flat = vals.flatten()\n",
    "    flat.sort()\n",
    "    reg_tfidf = flat[-2]\n",
    "    \n",
    "    if reg_tfidf==0:\n",
    "        robo1_res = robo1_res+\"I am sorry I don't understand you\"\n",
    "        return robo1_res\n",
    "    \n",
    "    else:\n",
    "        robo1_res = robo1_res+sent_token[idx]\n",
    "    \n",
    "    return robo1_res"
   ]
  },
  {
   "cell_type": "markdown",
   "id": "08efdde5",
   "metadata": {},
   "source": [
    "# Conversation Start End Protocols"
   ]
  },
  {
   "cell_type": "code",
   "execution_count": null,
   "id": "3b355f39",
   "metadata": {},
   "outputs": [
    {
     "name": "stdout",
     "output_type": "stream",
     "text": [
      "Bot: hey me Noor Saeed. Let's have a conversation. If you want to exit just type Buy!\n",
      "foundations\n",
      "Bot:"
     ]
    },
    {
     "name": "stderr",
     "output_type": "stream",
     "text": [
      "C:\\Users\\Noor Saeed\\AppData\\Local\\Programs\\Python\\Python310\\lib\\site-packages\\sklearn\\feature_extraction\\text.py:404: UserWarning: Your stop_words may be inconsistent with your preprocessing. Tokenizing the stop words generated tokens ['ha', 'le', 'u', 'wa'] not in stop_words.\n",
      "  warnings.warn(\n"
     ]
    },
    {
     "name": "stdout",
     "output_type": "stream",
     "text": [
      "[9]\n",
      "\n",
      "foundations\n",
      "data science is an interdisciplinary field[10] focused on extracting knowledge from typically large data sets and applying the knowledge and insights from that data to solve problems in a wide range of application domains.\n"
     ]
    }
   ],
   "source": [
    "flag =True\n",
    "print(\"Bot: hey me Noor Saeed. Let's have a conversation. If you want to exit just type Buy!\")\n",
    "\n",
    "while flag==True:\n",
    "    user_response = input()\n",
    "    user_response = user_response.lower()\n",
    "    \n",
    "    if user_response !='buy':\n",
    "        if user_response==\"thanks\" or user_response=='thank you':\n",
    "            flag = False\n",
    "            print(\"Bot: You are Welcome\")\n",
    "        else:\n",
    "            sent_token.append(user_response)\n",
    "            word_tokens =word_token+nltk.word_tokenize(user_response)\n",
    "            final_words = list(set(word_tokens))\n",
    "            \n",
    "            print(\"Bot:\",end=\"\")\n",
    "            print(response(user_response))\n",
    "            sent_token.remove(user_response)\n",
    "    else:\n",
    "        \n",
    "        flag=False\n",
    "        print('Bot: Ok Good Buy! Take Care')\n",
    "                "
   ]
  },
  {
   "cell_type": "code",
   "execution_count": 14,
   "id": "fd107eb8",
   "metadata": {},
   "outputs": [],
   "source": [
    "# Foundations\n",
    "# Modern usage\n",
    "# Etymology\n",
    "# Playing area\n",
    "# Women's cricket"
   ]
  },
  {
   "cell_type": "code",
   "execution_count": null,
   "id": "8d29c8ab",
   "metadata": {},
   "outputs": [],
   "source": []
  },
  {
   "cell_type": "code",
   "execution_count": null,
   "id": "3a16d74d",
   "metadata": {},
   "outputs": [],
   "source": []
  }
 ],
 "metadata": {
  "kernelspec": {
   "display_name": "Python 3 (ipykernel)",
   "language": "python",
   "name": "python3"
  },
  "language_info": {
   "codemirror_mode": {
    "name": "ipython",
    "version": 3
   },
   "file_extension": ".py",
   "mimetype": "text/x-python",
   "name": "python",
   "nbconvert_exporter": "python",
   "pygments_lexer": "ipython3",
   "version": "3.10.6"
  }
 },
 "nbformat": 4,
 "nbformat_minor": 5
}
